{
 "cells": [
  {
   "cell_type": "markdown",
   "metadata": {},
   "source": [
    "# tf.parse_single_example"
   ]
  },
  {
   "cell_type": "code",
   "execution_count": 1,
   "metadata": {
    "collapsed": true
   },
   "outputs": [],
   "source": [
    "import tensorflow as tf"
   ]
  },
  {
   "cell_type": "code",
   "execution_count": 5,
   "metadata": {
    "collapsed": true
   },
   "outputs": [],
   "source": [
    "sess=tf.Session()"
   ]
  },
  {
   "cell_type": "code",
   "execution_count": 6,
   "metadata": {
    "collapsed": true
   },
   "outputs": [],
   "source": [
    "def _bytes_feature(value):\n",
    "    return tf.train.Feature(bytes_list=tf.train.BytesList(value=[value]))"
   ]
  },
  {
   "cell_type": "code",
   "execution_count": 11,
   "metadata": {},
   "outputs": [
    {
     "name": "stdout",
     "output_type": "stream",
     "text": [
      "features {\n",
      "  feature {\n",
      "    key: \"image_raw\"\n",
      "    value {\n",
      "      bytes_list {\n",
      "        value: \"hello, tf.parse_single_example\"\n",
      "      }\n",
      "    }\n",
      "  }\n",
      "}\n",
      "\n"
     ]
    }
   ],
   "source": [
    "example = tf.train.Example(features=tf.train.Features(\n",
    "    feature={'image_raw': _bytes_feature(b'hello, tf.parse_single_example')}))\n",
    "print(example)"
   ]
  },
  {
   "cell_type": "code",
   "execution_count": 10,
   "metadata": {},
   "outputs": [
    {
     "name": "stdout",
     "output_type": "stream",
     "text": [
      "{'image_raw': b'hello, tf.parse_single_example'}\n"
     ]
    }
   ],
   "source": [
    "serialized_tf_example = tf.placeholder(tf.string, name='tf_example')\n",
    "feature_configs = {'image_raw': tf.FixedLenFeature(shape=[], dtype=tf.string),}\n",
    "tf_example = tf.parse_single_example(serialized_tf_example, feature_configs)\n",
    "out = sess.run(tf_example, feed_dict={serialized_tf_example:example.SerializeToString()})\n",
    "print(out)"
   ]
  },
  {
   "cell_type": "markdown",
   "metadata": {},
   "source": [
    "# tf.parse_example"
   ]
  },
  {
   "cell_type": "code",
   "execution_count": 12,
   "metadata": {},
   "outputs": [
    {
     "name": "stdout",
     "output_type": "stream",
     "text": [
      "{'image_raw': array([b'hello, tf.parse_single_example', b'tf.parse_example'], dtype=object)}\n"
     ]
    }
   ],
   "source": [
    "another_example = tf.train.Example(features=tf.train.Features(\n",
    "    feature={'image_raw': _bytes_feature(b'tf.parse_example')}))\n",
    "m_tf_example = tf.parse_example(serialized_tf_example, feature_configs)\n",
    "out = sess.run(m_tf_example, feed_dict={serialized_tf_example:[example.SerializeToString(),\n",
    "                                                               another_example.SerializeToString()]})\n",
    "print(out)"
   ]
  },
  {
   "cell_type": "code",
   "execution_count": null,
   "metadata": {
    "collapsed": true
   },
   "outputs": [],
   "source": []
  }
 ],
 "metadata": {
  "kernelspec": {
   "display_name": "Python 3",
   "language": "python",
   "name": "python3"
  },
  "language_info": {
   "codemirror_mode": {
    "name": "ipython",
    "version": 3
   },
   "file_extension": ".py",
   "mimetype": "text/x-python",
   "name": "python",
   "nbconvert_exporter": "python",
   "pygments_lexer": "ipython3",
   "version": "3.6.1"
  }
 },
 "nbformat": 4,
 "nbformat_minor": 2
}
